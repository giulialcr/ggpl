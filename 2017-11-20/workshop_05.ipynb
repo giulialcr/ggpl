{
 "cells": [
  {
   "cell_type": "markdown",
   "metadata": {},
   "source": [
    "Laboratorio 20 - 11 - 2018\n",
    "=================="
   ]
  },
  {
   "cell_type": "markdown",
   "metadata": {},
   "source": [
    "Scelta e realiazzione della piantina di una delle ville di [Andrea Palladio](https://it.wikipedia.org/wiki/Andrea_Palladio)   \n",
    "------------------"
   ]
  },
  {
   "cell_type": "markdown",
   "metadata": {},
   "source": [
    "VILLA PISANI BAGNOLO [Wikipedia](https://it.wikipedia.org/wiki/Villa_Pisani_(Bagnolo)  \n",
    "===================="
   ]
  },
  {
   "cell_type": "markdown",
   "metadata": {},
   "source": [
    "![villa](villa.jpg)"
   ]
  },
  {
   "cell_type": "markdown",
   "metadata": {},
   "source": [
    "![villa](villa2.jpeg)"
   ]
  },
  {
   "cell_type": "markdown",
   "metadata": {},
   "source": [
    "![villa](villa3.jpg)"
   ]
  },
  {
   "cell_type": "markdown",
   "metadata": {
    "collapsed": true
   },
   "source": [
    "![piantina.jpg](piantina.jpg)"
   ]
  },
  {
   "cell_type": "code",
   "execution_count": 4,
   "metadata": {
    "collapsed": false
   },
   "outputs": [
    {
     "data": {
      "text/plain": [
       "<pyplasm.xgepy.Hpc; proxy of <Swig Object of type 'std::shared_ptr< Hpc > *' at 0xad12ae60> >"
      ]
     },
     "execution_count": 4,
     "metadata": {},
     "output_type": "execute_result"
    }
   ],
   "source": [
    "from pyplasm import *\n",
    "import math\n",
    "import csv\n",
    "\n",
    "with open(\"pianta.lines\", \"rb\") as file:\n",
    "    reader = csv.reader(file, delimiter=\",\")\n",
    "    walls = []\n",
    "    for row in reader:\n",
    "        row0 = math.floor(float(row[0])*100)/100\n",
    "        row1 = math.floor(float(row[1])*100)/100\n",
    "        row2 = math.floor(float(row[2])*100)/100\n",
    "        row3 = math.floor(float(row[3])*100)/100\n",
    "        walls.append(POLYLINE([[row0, row1], [row2, row3]]))\n",
    "\n",
    "VIEW(STRUCT(walls))"
   ]
  },
  {
   "cell_type": "markdown",
   "metadata": {},
   "source": [
    "![piantina](pianta3.png)"
   ]
  },
  {
   "cell_type": "markdown",
   "metadata": {},
   "source": [
    "![piantina](pianta4.png)"
   ]
  },
  {
   "cell_type": "code",
   "execution_count": 7,
   "metadata": {
    "collapsed": false
   },
   "outputs": [
    {
     "data": {
      "text/plain": [
       "<pyplasm.xgepy.Hpc; proxy of <Swig Object of type 'std::shared_ptr< Hpc > *' at 0xad1493f8> >"
      ]
     },
     "execution_count": 7,
     "metadata": {},
     "output_type": "execute_result"
    }
   ],
   "source": [
    "from larlib import *\n",
    "import csv\n",
    "import math\n",
    "def planimetria(spessore = 3, altezza = 50):\n",
    "    \"\"\"\n",
    "    Planimetria della villa\n",
    "    :param spessore:\n",
    "    :param h_laterale:\n",
    "    :param h_centrale:\n",
    "    :return:\n",
    "    \"\"\"\n",
    "    muri=[]\n",
    "\n",
    "    with open(\"pianta.lines\", \"rb\") as file:\n",
    "        reader = csv.reader(file, delimiter=\",\")\n",
    "        for row in reader:\n",
    "            row0 = math.floor(float(row[0]))\n",
    "            row1 = math.floor(float(row[1]))\n",
    "            row2 = math.floor(float(row[2]))\n",
    "            row3 = math.floor(float(row[3]))\n",
    "            muri.append(OFFSET([spessore, spessore])(POLYLINE([[row0, row1], [row2, row3]])))\n",
    "\n",
    "    muri = STRUCT(muri)\n",
    "    muri = (muri)\n",
    "\n",
    "    return STRUCT([MULTEXTRUDE(muri)(altezza)])\n",
    "\n",
    "VIEW(planimetria())"
   ]
  },
  {
   "cell_type": "markdown",
   "metadata": {
    "collapsed": true
   },
   "source": [
    "![piantina](pianta8.png)"
   ]
  },
  {
   "cell_type": "markdown",
   "metadata": {
    "collapsed": true
   },
   "source": [
    "![piantina](pianta6.png)"
   ]
  },
  {
   "cell_type": "markdown",
   "metadata": {
    "collapsed": true
   },
   "source": [
    "![piantina](pianta7.png)"
   ]
  },
  {
   "cell_type": "code",
   "execution_count": null,
   "metadata": {
    "collapsed": true
   },
   "outputs": [],
   "source": []
  }
 ],
 "metadata": {
  "kernelspec": {
   "display_name": "Python 2",
   "language": "python",
   "name": "python2"
  },
  "language_info": {
   "codemirror_mode": {
    "name": "ipython",
    "version": 2
   },
   "file_extension": ".py",
   "mimetype": "text/x-python",
   "name": "python",
   "nbconvert_exporter": "python",
   "pygments_lexer": "ipython2",
   "version": "2.7.12"
  }
 },
 "nbformat": 4,
 "nbformat_minor": 2
}
