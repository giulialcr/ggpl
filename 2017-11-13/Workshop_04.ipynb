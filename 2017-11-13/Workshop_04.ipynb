{
 "cells": [
  {
   "cell_type": "code",
   "execution_count": 1,
   "metadata": {
    "collapsed": false
   },
   "outputs": [
    {
     "name": "stdout",
     "output_type": "stream",
     "text": [
      "Evaluating fenvs.py..\n",
      "...fenvs.py imported in 0.011268 seconds\n"
     ]
    },
    {
     "name": "stderr",
     "output_type": "stream",
     "text": [
      "/usr/local/lib/python2.7/dist-packages/larlib/larstruct.py:233: FutureWarning: comparison to `None` will result in an elementwise object comparison in the future.\n",
      "  self.body = [item for item in data if item != None]\n"
     ]
    }
   ],
   "source": [
    "from larlib import *\n",
    "from pyplasm import *\n",
    "\n",
    "def ArchSurface(rr,w,h):\n",
    "    Circle0 = lambda p : rr*cos(p[0])\n",
    "    Circle00= lambda p : rr*sin(p[0])\n",
    "    Circle1 = lambda p : (rr-w)*cos(p[0])\n",
    "    Circle11 = lambda p : (rr-w)*sin(p[0])\n",
    "    z = lambda p : h\n",
    "    Circle0 = BEZIER(S1)([CONS([Circle0,Circle00,z])])\n",
    "    Circle1 = BEZIER(S2)([CONS([Circle1,Circle11,z])])\n",
    "    return BEZIER(S2)([Circle0,Circle1])\n",
    "\n",
    "def Arch(length,w,depth,angle):\n",
    "    radius = (length/2)/cos(angle/2)\n",
    "    domain2D = PROD([T(1)(angle/2)(INTERVALS(PI-angle)(16)),QUOTE([1])])\n",
    "    domain3D = PROD([domain2D,QUOTE([1])])\n",
    "    ArchSurf2D0 = ArchSurface(radius,w,0)\n",
    "    ArchSurf2D1 = ArchSurface(radius,w,depth)\n",
    "    \n",
    "    SolidMap = BEZIER(S3)([ArchSurf2D0,ArchSurf2D1])\n",
    "    return MAP(SolidMap)(domain3D)\n",
    "    torus_bot = COMP([JOIN,TORUS([dm/12,dm/2])])([8,24])\n",
    "    torus_top = COMP([JOIN,TORUS([0.8*(dm/12),0.8*(dm/2)])])([8,24])\n",
    "    base = COMP([T([1,2])([7*dm/-12,7*dm/-12]),CUBOID])([7*dm/6,7*dm/6,h_base])\n",
    "    base_top = COMP([T([1,2])([7*dm/-12,7*dm/-12]),CUBOID])([7*dm/6,7*dm/6,dm/6])\n",
    "    capital = SUM([\n",
    "        COMP([JOIN,TRUNCONE([0.8*dm/2,1.2 * dm /2, h/8])])(4),\n",
    "        COMP([R([1,2])(PI/4),JOIN,TRUNCONE([0.8*dm/2,1.2 * dm/2 , h/8])])(4)\n",
    "    ])\n",
    "   \n",
    "    return TOP([TOP([TOP([TOP([TOP([base,torus_bot]),cylndr]),torus_top]),capital]),base_top])\n",
    "\n",
    "\n",
    "\n",
    "\n",
    "def colonne(dm,h,h_base):\n",
    "    cylndr = COMP([JOIN,TRUNCONE([dm/2,0.8*dm/2,h])])(24)\n",
    "    torus_bot = COMP([JOIN,TORUS([dm/12,dm/2])])([8,24])\n",
    "    torus_top = COMP([JOIN,TORUS([0.8*(dm/12),0.8*(dm/2)])])([8,24])\n",
    "    base = COMP([T([1,2])([7*dm/-12,7*dm/-12]),CUBOID])([15*dm/6,10*dm/6,h_base])\n",
    "    base_top = COMP([T([1,2])([7*dm/-12,7*dm/-12]),CUBOID])([15*dm/6,10*dm/6,dm/6])\n",
    "    capital = SUM([\n",
    "        COMP([JOIN,TRUNCONE([0.8*dm/2,1.2 * dm /2, h/8])])(4),\n",
    "        COMP([R([1,2])(PI/4),JOIN,TRUNCONE([0.8*dm/2,1.2 * dm/2 , h/8])])(4)\n",
    "    ])\n",
    "   \n",
    "    return TOP([TOP([TOP([TOP([TOP([base,torus_bot]),cylndr]),torus_top]),capital]),base_top])\n",
    "def HalfSphere(r): \n",
    "    fx= lambda k : r*-(sin(k[1])*cos(k[0])) \n",
    "    fy= lambda k : r*cos(k[0])*cos(k[1])\n",
    "    fz= lambda k : r*sin(k[0])\n",
    "    return CONS([fx,fy,fz])\n",
    "\n",
    "\n",
    "def Dome(n):\n",
    "    def Dome1(length,w,angle):\n",
    "        radius=length/(2*cos(angle))\n",
    "        #celing=MIN(3)(Dome1(length,w,angle)) \n",
    "        Surf3D0=HalfSphere(radius) \n",
    "        Surf3D1=HalfSphere(radius-w)\n",
    "        SolidMap= BEZIER(S3)([Surf3D0,Surf3D1])\n",
    "        domain2D=PROD([COMP([T(1)(angle),INTERVALS(PI - angle)])(12),INTERVALS(2*PI)(n)])\n",
    "        domain3D= PROD([domain2D,Q(1)])\n",
    "        return COMP([T(3)(-3),MAP(SolidMap)])(domain3D) \n",
    "    return Dome1"
   ]
  },
  {
   "cell_type": "markdown",
   "metadata": {},
   "source": [
    "# Esempio numero 1 : Produzione Colonna"
   ]
  },
  {
   "cell_type": "code",
   "execution_count": 5,
   "metadata": {
    "collapsed": false
   },
   "outputs": [
    {
     "name": "stdout",
     "output_type": "stream",
     "text": [
      "Child 3\n",
      "Child 3\n"
     ]
    },
    {
     "data": {
      "text/plain": [
       "<pyplasm.xgepy.Hpc; proxy of <Swig Object of type 'std::shared_ptr< Hpc > *' at 0xad2b5d88> >"
      ]
     },
     "execution_count": 5,
     "metadata": {},
     "output_type": "execute_result"
    }
   ],
   "source": [
    "VIEW(colonne(6,25,1))"
   ]
  },
  {
   "cell_type": "markdown",
   "metadata": {},
   "source": [
    "![Colonna.PNG](files/Immagini/Colonna.PNG)"
   ]
  },
  {
   "cell_type": "code",
   "execution_count": 7,
   "metadata": {
    "collapsed": false
   },
   "outputs": [
    {
     "name": "stdout",
     "output_type": "stream",
     "text": [
      "Child 3\n",
      "Child 3\n"
     ]
    },
    {
     "data": {
      "text/plain": [
       "<pyplasm.xgepy.Hpc; proxy of <Swig Object of type 'std::shared_ptr< Hpc > *' at 0xad631d40> >"
      ]
     },
     "execution_count": 7,
     "metadata": {},
     "output_type": "execute_result"
    }
   ],
   "source": [
    "\n",
    "Colonna = colonne(10,40,1)\n",
    "Colonne = STRUCT(NN(4)([Colonna,T(1)(15)]))\n",
    "VIEW(Colonne)\n"
   ]
  },
  {
   "cell_type": "markdown",
   "metadata": {},
   "source": [
    "![Colonne.PNG](files/Immagini/Colonne.PNG)"
   ]
  },
  {
   "cell_type": "code",
   "execution_count": 4,
   "metadata": {
    "collapsed": false
   },
   "outputs": [
    {
     "name": "stdout",
     "output_type": "stream",
     "text": [
      "Child 3\n",
      "Child 3\n"
     ]
    },
    {
     "data": {
      "text/plain": [
       "<pyplasm.xgepy.Hpc; proxy of <Swig Object of type 'std::shared_ptr< Hpc > *' at 0x0000000014727690> >"
      ]
     },
     "execution_count": 4,
     "metadata": {},
     "output_type": "execute_result"
    }
   ],
   "source": [
    "#\n",
    "Colonne = colonne(10,40,1)\n",
    "Colonne = STRUCT (NN(4)([Colonne,T(1)(15)]))\n",
    "VIEW(Colonne)"
   ]
  },
  {
   "cell_type": "markdown",
   "metadata": {},
   "source": [
    "![Colonnae.PNG](files/Immagini/Colonnae.PNG)"
   ]
  },
  {
   "cell_type": "code",
   "execution_count": 8,
   "metadata": {
    "collapsed": false
   },
   "outputs": [
    {
     "data": {
      "text/plain": [
       "<pyplasm.xgepy.Hpc; proxy of <Swig Object of type 'std::shared_ptr< Hpc > *' at 0xb6310608> >"
      ]
     },
     "execution_count": 8,
     "metadata": {},
     "output_type": "execute_result"
    }
   ],
   "source": [
    "\n",
    "VIEW(SKELETON(1)(Colonna))"
   ]
  },
  {
   "cell_type": "markdown",
   "metadata": {},
   "source": [
    "![Scheletro.PNG](files/Immagini/Scheletro.PNG)"
   ]
  },
  {
   "cell_type": "code",
   "execution_count": 9,
   "metadata": {
    "collapsed": false
   },
   "outputs": [
    {
     "data": {
      "text/plain": [
       "<pyplasm.xgepy.Hpc; proxy of <Swig Object of type 'std::shared_ptr< Hpc > *' at 0xad087b78> >"
      ]
     },
     "execution_count": 9,
     "metadata": {},
     "output_type": "execute_result"
    }
   ],
   "source": [
    "VIEW(Arch(10,1,1,0.3*PI))"
   ]
  },
  {
   "cell_type": "markdown",
   "metadata": {},
   "source": [
    "![Arco.PNG](files/Immagini/Arco.PNG)"
   ]
  },
  {
   "cell_type": "code",
   "execution_count": 10,
   "metadata": {
    "collapsed": false
   },
   "outputs": [
    {
     "data": {
      "text/plain": [
       "<pyplasm.xgepy.Hpc; proxy of <Swig Object of type 'std::shared_ptr< Hpc > *' at 0xb47a51d0> >"
      ]
     },
     "execution_count": 10,
     "metadata": {},
     "output_type": "execute_result"
    }
   ],
   "source": [
    "\n",
    "Arco = Arch(12.5,1.2,1,0.1*PI)\n",
    "Arco2 = Arch(13.5,1.2,1,0.001*PI)\n",
    "Arco2 = T(2)(PI/3)(Arco2)\n",
    "Arco = STRUCT([Arco,Arco2])\n",
    "VIEW(Arco)"
   ]
  },
  {
   "cell_type": "markdown",
   "metadata": {},
   "source": [
    "![Archi.PNG](files/Immagini/Archi.PNG)"
   ]
  },
  {
   "cell_type": "code",
   "execution_count": 11,
   "metadata": {
    "collapsed": false
   },
   "outputs": [
    {
     "data": {
      "text/plain": [
       "<pyplasm.xgepy.Hpc; proxy of <Swig Object of type 'std::shared_ptr< Hpc > *' at 0xb47a5248> >"
      ]
     },
     "execution_count": 11,
     "metadata": {},
     "output_type": "execute_result"
    }
   ],
   "source": [
    "Arco = Arch(12.5,1.2,1,0.1*PI)\n",
    "Arco1 = STRUCT(NN(4)([Arco,R([1,2])(PI/2)]))\n",
    "Arco2 = STRUCT(NN(2)([Arco1,R([1,3])(PI/2)]))\n",
    "VIEW(Arco1)\n",
    "VIEW(STRUCT([Arco1,Arco2]))"
   ]
  },
  {
   "cell_type": "markdown",
   "metadata": {},
   "source": [
    "![Unione_archi.PNG](files/Immagini/Unione_archi.PNG)"
   ]
  },
  {
   "cell_type": "markdown",
   "metadata": {},
   "source": [
    "![Archi_plus.PNG](files/Immagini/Archi_plus.PNG)"
   ]
  },
  {
   "cell_type": "code",
   "execution_count": 12,
   "metadata": {
    "collapsed": false
   },
   "outputs": [
    {
     "data": {
      "text/plain": [
       "<pyplasm.xgepy.Hpc; proxy of <Swig Object of type 'std::shared_ptr< Hpc > *' at 0xb47edb78> >"
      ]
     },
     "execution_count": 12,
     "metadata": {},
     "output_type": "execute_result"
    }
   ],
   "source": [
    "Arco = Arch(12.5,1.2,1,0.1*PI)\n",
    "Arco1 = STRUCT(NN(4)([Arco,R([1,2])(PI/2)]))\n",
    "Arco2 = STRUCT(NN(6)([Arco1,R([1,3])(PI/6)]))\n",
    "VIEW(STRUCT([Arco1,Arco2]))\n",
    "VIEW(SKELETON(1)(STRUCT([Arco1,Arco2])))"
   ]
  },
  {
   "cell_type": "markdown",
   "metadata": {},
   "source": [
    "![Sfera_di_archi.PNG](files/Immagini/Sfera_di_archi.PNG)"
   ]
  },
  {
   "cell_type": "markdown",
   "metadata": {},
   "source": [
    "![Scheletro_sfera_di_archi.PNG](files/Immagini/Scheletro_sfera_di_archi.PNG)"
   ]
  },
  {
   "cell_type": "code",
   "execution_count": 13,
   "metadata": {
    "collapsed": false
   },
   "outputs": [
    {
     "data": {
      "text/plain": [
       "<pyplasm.xgepy.Hpc; proxy of <Swig Object of type 'std::shared_ptr< Hpc > *' at 0xad2b5fb0> >"
      ]
     },
     "execution_count": 13,
     "metadata": {},
     "output_type": "execute_result"
    }
   ],
   "source": [
    "VIEW(Dome(40)(1,65,0.2*PI))"
   ]
  },
  {
   "cell_type": "markdown",
   "metadata": {},
   "source": [
    "![Half_sphere.PNG](files/Immagini/Half_sphere.PNG)"
   ]
  },
  {
   "cell_type": "code",
   "execution_count": 15,
   "metadata": {
    "collapsed": true
   },
   "outputs": [],
   "source": [
    "sphere = Dome(40)(1,65,0.2*PI)"
   ]
  },
  {
   "cell_type": "code",
   "execution_count": 16,
   "metadata": {
    "collapsed": false
   },
   "outputs": [
    {
     "data": {
      "text/plain": [
       "<pyplasm.xgepy.Hpc; proxy of <Swig Object of type 'std::shared_ptr< Hpc > *' at 0xad2b5ce0> >"
      ]
     },
     "execution_count": 16,
     "metadata": {},
     "output_type": "execute_result"
    }
   ],
   "source": [
    "VIEW(SKELETON(1)(sphere))"
   ]
  },
  {
   "cell_type": "markdown",
   "metadata": {},
   "source": [
    "![Skel_Sp.PNG](files/Immagini/Skel_Sp.PNG)"
   ]
  }
 ],
 "metadata": {
  "kernelspec": {
   "display_name": "Python 2",
   "language": "python",
   "name": "python2"
  },
  "language_info": {
   "codemirror_mode": {
    "name": "ipython",
    "version": 2
   },
   "file_extension": ".py",
   "mimetype": "text/x-python",
   "name": "python",
   "nbconvert_exporter": "python",
   "pygments_lexer": "ipython2",
   "version": "2.7.12"
  }
 },
 "nbformat": 4,
 "nbformat_minor": 2
}
